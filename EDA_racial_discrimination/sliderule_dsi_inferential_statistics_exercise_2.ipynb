{
 "cells": [
  {
   "cell_type": "markdown",
   "metadata": {},
   "source": [
    "# Examining Racial Discrimination in the US Job Market\n",
    "\n",
    "### Background\n",
    "Racial discrimination continues to be pervasive in cultures throughout the world. Researchers examined the level of racial discrimination in the United States labor market by randomly assigning identical résumés to black-sounding or white-sounding names and observing the impact on requests for interviews from employers.\n",
    "\n",
    "### Data\n",
    "In the dataset provided, each row represents a resume. The 'race' column has two values, 'b' and 'w', indicating black-sounding and white-sounding. The column 'call' has two values, 1 and 0, indicating whether the resume received a call from employers or not.\n",
    "\n",
    "Note that the 'b' and 'w' values in race are assigned randomly to the resumes when presented to the employer."
   ]
  },
  {
   "cell_type": "markdown",
   "metadata": {},
   "source": [
    "### Exercises\n",
    "You will perform a statistical analysis to establish whether race has a significant impact on the rate of callbacks for resumes.\n",
    "\n",
    "Answer the following questions **in this notebook below and submit to your Github account**. \n",
    "\n",
    "   1. What test is appropriate for this problem? Does CLT apply?\n",
    "   2. What are the null and alternate hypotheses?\n",
    "   3. Compute margin of error, confidence interval, and p-value. Try using both the bootstrapping and the frequentist statistical approaches.\n",
    "   4. Write a story describing the statistical significance in the context or the original problem.\n",
    "   5. Does your analysis mean that race/name is the most important factor in callback success? Why or why not? If not, how would you amend your analysis?\n",
    "\n",
    "You can include written notes in notebook cells using Markdown: \n",
    "   - In the control panel at the top, choose Cell > Cell Type > Markdown\n",
    "   - Markdown syntax: http://nestacms.com/docs/creating-content/markdown-cheat-sheet\n",
    "\n",
    "#### Resources\n",
    "+ Experiment information and data source: http://www.povertyactionlab.org/evaluation/discrimination-job-market-united-states\n",
    "+ Scipy statistical methods: http://docs.scipy.org/doc/scipy/reference/stats.html \n",
    "+ Markdown syntax: http://nestacms.com/docs/creating-content/markdown-cheat-sheet\n",
    "+ Formulas for the Bernoulli distribution: https://en.wikipedia.org/wiki/Bernoulli_distribution"
   ]
  },
  {
   "cell_type": "code",
   "execution_count": 4,
   "metadata": {},
   "outputs": [],
   "source": [
    "import pandas as pd\n",
    "import numpy as np\n",
    "from scipy import stats"
   ]
  },
  {
   "cell_type": "code",
   "execution_count": 5,
   "metadata": {},
   "outputs": [],
   "source": [
    "data = pd.io.stata.read_stata('data/us_job_market_discrimination.dta')"
   ]
  },
  {
   "cell_type": "code",
   "execution_count": 6,
   "metadata": {},
   "outputs": [
    {
     "data": {
      "text/plain": [
       "235.0"
      ]
     },
     "execution_count": 6,
     "metadata": {},
     "output_type": "execute_result"
    }
   ],
   "source": [
    "# number of callbacks for black-sounding names\n",
    "sum(data[data.race=='w'].call)"
   ]
  },
  {
   "cell_type": "code",
   "execution_count": 7,
   "metadata": {},
   "outputs": [
    {
     "data": {
      "text/html": [
       "<div>\n",
       "<style scoped>\n",
       "    .dataframe tbody tr th:only-of-type {\n",
       "        vertical-align: middle;\n",
       "    }\n",
       "\n",
       "    .dataframe tbody tr th {\n",
       "        vertical-align: top;\n",
       "    }\n",
       "\n",
       "    .dataframe thead th {\n",
       "        text-align: right;\n",
       "    }\n",
       "</style>\n",
       "<table border=\"1\" class=\"dataframe\">\n",
       "  <thead>\n",
       "    <tr style=\"text-align: right;\">\n",
       "      <th></th>\n",
       "      <th>id</th>\n",
       "      <th>ad</th>\n",
       "      <th>education</th>\n",
       "      <th>ofjobs</th>\n",
       "      <th>yearsexp</th>\n",
       "      <th>honors</th>\n",
       "      <th>volunteer</th>\n",
       "      <th>military</th>\n",
       "      <th>empholes</th>\n",
       "      <th>occupspecific</th>\n",
       "      <th>...</th>\n",
       "      <th>compreq</th>\n",
       "      <th>orgreq</th>\n",
       "      <th>manuf</th>\n",
       "      <th>transcom</th>\n",
       "      <th>bankreal</th>\n",
       "      <th>trade</th>\n",
       "      <th>busservice</th>\n",
       "      <th>othservice</th>\n",
       "      <th>missind</th>\n",
       "      <th>ownership</th>\n",
       "    </tr>\n",
       "  </thead>\n",
       "  <tbody>\n",
       "    <tr>\n",
       "      <th>0</th>\n",
       "      <td>b</td>\n",
       "      <td>1</td>\n",
       "      <td>4</td>\n",
       "      <td>2</td>\n",
       "      <td>6</td>\n",
       "      <td>0</td>\n",
       "      <td>0</td>\n",
       "      <td>0</td>\n",
       "      <td>1</td>\n",
       "      <td>17</td>\n",
       "      <td>...</td>\n",
       "      <td>1.0</td>\n",
       "      <td>0.0</td>\n",
       "      <td>1.0</td>\n",
       "      <td>0.0</td>\n",
       "      <td>0.0</td>\n",
       "      <td>0.0</td>\n",
       "      <td>0.0</td>\n",
       "      <td>0.0</td>\n",
       "      <td>0.0</td>\n",
       "      <td></td>\n",
       "    </tr>\n",
       "    <tr>\n",
       "      <th>1</th>\n",
       "      <td>b</td>\n",
       "      <td>1</td>\n",
       "      <td>3</td>\n",
       "      <td>3</td>\n",
       "      <td>6</td>\n",
       "      <td>0</td>\n",
       "      <td>1</td>\n",
       "      <td>1</td>\n",
       "      <td>0</td>\n",
       "      <td>316</td>\n",
       "      <td>...</td>\n",
       "      <td>1.0</td>\n",
       "      <td>0.0</td>\n",
       "      <td>1.0</td>\n",
       "      <td>0.0</td>\n",
       "      <td>0.0</td>\n",
       "      <td>0.0</td>\n",
       "      <td>0.0</td>\n",
       "      <td>0.0</td>\n",
       "      <td>0.0</td>\n",
       "      <td></td>\n",
       "    </tr>\n",
       "    <tr>\n",
       "      <th>2</th>\n",
       "      <td>b</td>\n",
       "      <td>1</td>\n",
       "      <td>4</td>\n",
       "      <td>1</td>\n",
       "      <td>6</td>\n",
       "      <td>0</td>\n",
       "      <td>0</td>\n",
       "      <td>0</td>\n",
       "      <td>0</td>\n",
       "      <td>19</td>\n",
       "      <td>...</td>\n",
       "      <td>1.0</td>\n",
       "      <td>0.0</td>\n",
       "      <td>1.0</td>\n",
       "      <td>0.0</td>\n",
       "      <td>0.0</td>\n",
       "      <td>0.0</td>\n",
       "      <td>0.0</td>\n",
       "      <td>0.0</td>\n",
       "      <td>0.0</td>\n",
       "      <td></td>\n",
       "    </tr>\n",
       "    <tr>\n",
       "      <th>3</th>\n",
       "      <td>b</td>\n",
       "      <td>1</td>\n",
       "      <td>3</td>\n",
       "      <td>4</td>\n",
       "      <td>6</td>\n",
       "      <td>0</td>\n",
       "      <td>1</td>\n",
       "      <td>0</td>\n",
       "      <td>1</td>\n",
       "      <td>313</td>\n",
       "      <td>...</td>\n",
       "      <td>1.0</td>\n",
       "      <td>0.0</td>\n",
       "      <td>1.0</td>\n",
       "      <td>0.0</td>\n",
       "      <td>0.0</td>\n",
       "      <td>0.0</td>\n",
       "      <td>0.0</td>\n",
       "      <td>0.0</td>\n",
       "      <td>0.0</td>\n",
       "      <td></td>\n",
       "    </tr>\n",
       "    <tr>\n",
       "      <th>4</th>\n",
       "      <td>b</td>\n",
       "      <td>1</td>\n",
       "      <td>3</td>\n",
       "      <td>3</td>\n",
       "      <td>22</td>\n",
       "      <td>0</td>\n",
       "      <td>0</td>\n",
       "      <td>0</td>\n",
       "      <td>0</td>\n",
       "      <td>313</td>\n",
       "      <td>...</td>\n",
       "      <td>1.0</td>\n",
       "      <td>1.0</td>\n",
       "      <td>0.0</td>\n",
       "      <td>0.0</td>\n",
       "      <td>0.0</td>\n",
       "      <td>0.0</td>\n",
       "      <td>0.0</td>\n",
       "      <td>1.0</td>\n",
       "      <td>0.0</td>\n",
       "      <td>Nonprofit</td>\n",
       "    </tr>\n",
       "  </tbody>\n",
       "</table>\n",
       "<p>5 rows × 65 columns</p>\n",
       "</div>"
      ],
      "text/plain": [
       "  id ad  education  ofjobs  yearsexp  honors  volunteer  military  empholes  \\\n",
       "0  b  1          4       2         6       0          0         0         1   \n",
       "1  b  1          3       3         6       0          1         1         0   \n",
       "2  b  1          4       1         6       0          0         0         0   \n",
       "3  b  1          3       4         6       0          1         0         1   \n",
       "4  b  1          3       3        22       0          0         0         0   \n",
       "\n",
       "   occupspecific    ...      compreq  orgreq  manuf  transcom  bankreal trade  \\\n",
       "0             17    ...          1.0     0.0    1.0       0.0       0.0   0.0   \n",
       "1            316    ...          1.0     0.0    1.0       0.0       0.0   0.0   \n",
       "2             19    ...          1.0     0.0    1.0       0.0       0.0   0.0   \n",
       "3            313    ...          1.0     0.0    1.0       0.0       0.0   0.0   \n",
       "4            313    ...          1.0     1.0    0.0       0.0       0.0   0.0   \n",
       "\n",
       "  busservice othservice  missind  ownership  \n",
       "0        0.0        0.0      0.0             \n",
       "1        0.0        0.0      0.0             \n",
       "2        0.0        0.0      0.0             \n",
       "3        0.0        0.0      0.0             \n",
       "4        0.0        1.0      0.0  Nonprofit  \n",
       "\n",
       "[5 rows x 65 columns]"
      ]
     },
     "execution_count": 7,
     "metadata": {},
     "output_type": "execute_result"
    }
   ],
   "source": [
    "data.head()"
   ]
  },
  {
   "cell_type": "markdown",
   "metadata": {
    "collapsed": true
   },
   "source": [
    "<div class=\"span5 alert alert-success\">\n",
    "<p>1. The population is sufficiently large (over 2,400 samples for each race) that a z test can be used.\n",
    "    For the central limit theorem to apply, the samples must be random, independent, and either normally distributed or with sufficient sample size (usually n >= 30). In this sample, there is no reason to believe that the sampling was non-random, the population size is large enough that independence can be assumed, and the sample size is large enough that normality of the underlying data is not required. The CLT therefore does apply.</p>\n",
    "</div>"
   ]
  },
  {
   "cell_type": "markdown",
   "metadata": {},
   "source": [
    "<div class=\"span5 alert alert-success\">\n",
    "<p>2. The null hypothesis is that the mean of \"call\", which is equal to the proportion of applicants who receive a call, will be equal for applicants with typically white names and applicants with typically black names. The alternative hypothesis is that they are unequal.\n",
    "    An alternative way of stating the null hypothesis is that the difference between the call-back likelihood for those with white-sounding names and those with black-sounding names is zero, with an alternative hypothesis that the difference is not zero. This equivalent set of hypotheses is what will be used for the calculations below.</p>\n",
    "</div>"
   ]
  },
  {
   "cell_type": "code",
   "execution_count": 8,
   "metadata": {},
   "outputs": [],
   "source": [
    "w = data[data.race=='w']\n",
    "b = data[data.race=='b']"
   ]
  },
  {
   "cell_type": "markdown",
   "metadata": {},
   "source": [
    "# 3. Margin of Error/Confidence Interval and P-values"
   ]
  },
  {
   "cell_type": "markdown",
   "metadata": {},
   "source": [
    "## Bootstrap method"
   ]
  },
  {
   "cell_type": "markdown",
   "metadata": {},
   "source": [
    "For the bootstrap method, the data will be randomly permuted 10,000 times. The differences in callback rates in the sample means of the permutations will then be compared to the difference in callback rates observed in the data to determine how likely the results are by chance alone.\n",
    "\n",
    "The following two functions are defined to facilitate the bootstrap permutations."
   ]
  },
  {
   "cell_type": "code",
   "execution_count": 54,
   "metadata": {},
   "outputs": [],
   "source": [
    "def create_permutation(d1, d2):\n",
    "    \"\"\"Takes two arrays as parameters. Scrambles the values of the arrays and returns two permuted arrays\"\"\"\n",
    "\n",
    "    # Permute the combination of the two datasets\n",
    "    permuted_data = np.random.permutation(np.concatenate((d1, d2)))\n",
    "\n",
    "    # Split the permuted array into two permutations of the sizes of the original arrays\n",
    "    p1 = permuted_data[:len(d1)]\n",
    "    p2 = permuted_data[len(d1):]\n",
    "\n",
    "    return p1, p2\n",
    "\n",
    "\n",
    "def perm_mean_diff(d1, d2, reps=10000):\n",
    "    \"\"\"Takes two arrays and the specified number of replicates as parameters. Returns an array of the specified size\n",
    "    with the difference in means between the replicates\"\"\"\n",
    "\n",
    "    # Create the array of replicates\n",
    "    perm_replicates = np.empty(reps)\n",
    "\n",
    "    # For each item in the array, create a replicate\n",
    "    for i in range(reps):\n",
    "        # Generate a permutation using the create_permutation function\n",
    "        p1, p2 = create_permutation(d1, d2)\n",
    "\n",
    "        # Compute the mean\n",
    "        perm_replicates[i] = np.mean(p1) - np.mean(p2)\n",
    "\n",
    "    return perm_replicates"
   ]
  },
  {
   "cell_type": "markdown",
   "metadata": {},
   "source": [
    "Now, the functions are used to generate 10,000 replicates using the observed data."
   ]
  },
  {
   "cell_type": "code",
   "execution_count": 63,
   "metadata": {},
   "outputs": [],
   "source": [
    "white_calls = w.call.values.astype(int)\n",
    "black_calls = b.call.values.astype(int)\n",
    "wb_mean_replicates = perm_mean_diff(white_calls, black_calls)"
   ]
  },
  {
   "cell_type": "markdown",
   "metadata": {},
   "source": [
    "The wb_mean_replicates array contains 10,000 values for what the difference between white-sounding and black-sounding callback rates might have been by random chance if their true population callback rates were identical. Not one of the 10,000 replicates is as extreme as the observed result, suggesting that it is extremely unlikely that the callback rates differed due to chance alone."
   ]
  },
  {
   "cell_type": "code",
   "execution_count": 87,
   "metadata": {},
   "outputs": [
    {
     "name": "stdout",
     "output_type": "stream",
     "text": [
      "observed difference in callback rates: 0.032032854209445585\n",
      "p-value: 0.0\n"
     ]
    }
   ],
   "source": [
    "observed_rate_diff = np.mean(white_calls) - np.mean(black_calls)\n",
    "print('observed difference in callback rates: {}'.format(observed_rate_diff))\n",
    "\n",
    "# The p value is the proportion of simulated callback differences at least as extreme as the observed difference\n",
    "p = np.sum(wb_mean_replicates >= abs(observed_rate_diff)) / len(wb_mean_replicates)\n",
    "print('p-value: {}'.format(p))"
   ]
  },
  {
   "cell_type": "markdown",
   "metadata": {},
   "source": [
    "Next, the margin of error/confidence interval is calculated. This can be estimated using bootstrapping as the sample mean difference that would have been calculated with repeated sampling with replacement from the existing samples. The following function is defined to facilitate this replicate sampling."
   ]
  },
  {
   "cell_type": "code",
   "execution_count": 73,
   "metadata": {},
   "outputs": [],
   "source": [
    "def draw_replicates(d, func, size=10000):\n",
    "    \"\"\"The data, function to be tested, and number of replicates are passed in as function parameters. An array of the specified\n",
    "    size is returned, with each element equal to the given func applied to a random bootstrap sample of the data.\"\"\"\n",
    "    replicates = np.empty(size)\n",
    "    for i in range(size):\n",
    "        replicates[i] = func(np.random.choice(d, size=len(d)))\n",
    "        \n",
    "    return replicates"
   ]
  },
  {
   "cell_type": "markdown",
   "metadata": {},
   "source": [
    "Next, 10,000 replicates are drawn for both the black- and white-sounding callback rates. The difference between each pair of draws is one of the 10,000 simulated differences."
   ]
  },
  {
   "cell_type": "code",
   "execution_count": 75,
   "metadata": {},
   "outputs": [],
   "source": [
    "white_rep = draw_replicates(white_calls, np.mean)\n",
    "black_rep = draw_replicates(black_calls, np.mean)\n",
    "\n",
    "bootstrap_diff = white_rep - black_rep"
   ]
  },
  {
   "cell_type": "markdown",
   "metadata": {},
   "source": [
    "The 95% confidence interval for the difference between white and black callback rates is the 2.5th through 97.5th percentiles in the bootstrapped differences."
   ]
  },
  {
   "cell_type": "code",
   "execution_count": 80,
   "metadata": {},
   "outputs": [
    {
     "name": "stdout",
     "output_type": "stream",
     "text": [
      "the 95% CI for the difference between white and black callback rates is: [0.01683778234086243, 0.047227926078028754]\n",
      "the mean is 0.032020739219712525 and the margin of error is 0.015182956878850094\n"
     ]
    }
   ],
   "source": [
    "ci = np.percentile(bootstrap_diff, [2.5, 97.5])\n",
    "print('the 95% CI for the difference between white and black callback rates is: [{}, {}]'.format(ci[0], ci[1]))\n",
    "print('the mean is {} and the margin of error is {}'.format(np.mean(bootstrap_diff), np.mean(bootstrap_diff)-ci[0]))"
   ]
  },
  {
   "cell_type": "markdown",
   "metadata": {},
   "source": [
    "## Frequentist Method"
   ]
  },
  {
   "cell_type": "markdown",
   "metadata": {},
   "source": [
    "For the frequentist method, a z-test can be used as sample sizes are sufficiently large. As above, the null hypothesis is that the difference between the white- and black-sounding callback rates is zero, and the alternative hypothesis is that the difference is not equal to zero.\n",
    "\n",
    "First, the white and black callback rates, variances of the distributions, and the mean and variance of the difference between the callback rates is calculated."
   ]
  },
  {
   "cell_type": "code",
   "execution_count": 36,
   "metadata": {},
   "outputs": [],
   "source": [
    "# Calculate the mean white and black callback rates and the difference between the two\n",
    "w_mean = np.mean(w.call)\n",
    "b_mean = np.mean(b.call)\n",
    "w_b_diff = w_mean - b_mean\n",
    "\n",
    "# Calculate the variance of each distribution\n",
    "w_var = (w_mean * (1 - w_mean))/len(w)\n",
    "b_var = (b_mean * (1 - b_mean))/len(b)\n",
    "\n",
    "# The variance of the difference of the samples is their sum\n",
    "w_b_var_diff = w_var + b_var\n",
    "\n",
    "# The standard deviation of the difference of the samples is the square root of the variance\n",
    "w_b_sd_diff = np.sqrt(w_b_var_diff)"
   ]
  },
  {
   "cell_type": "markdown",
   "metadata": {},
   "source": [
    "Next, a margin of error is computed for the mean difference. This is performed by taking the value 1.96, which is known to be the number of standard deviations away from the mean of a normal distribution to calclate a 95% margin of error, and multiplying it by the standard deviation of the differences."
   ]
  },
  {
   "cell_type": "code",
   "execution_count": 82,
   "metadata": {
    "scrolled": true
   },
   "outputs": [],
   "source": [
    "margin_of_error = 1.96 * w_b_sd_diff"
   ]
  },
  {
   "cell_type": "code",
   "execution_count": 81,
   "metadata": {},
   "outputs": [
    {
     "name": "stdout",
     "output_type": "stream",
     "text": [
      "difference in means: 0.03203285485506058\n",
      "margin of error: 0.015255406348684322\n",
      "95% confidence interval: [0.016777448506376254, 0.0472882612037449]\n"
     ]
    }
   ],
   "source": [
    "print('difference in means: {}\\nmargin of error: {}'.format(w_b_diff, margin_of_error, 0))\n",
    "print('95% confidence interval: [{}, {}]'.format(w_b_diff - margin_of_error, w_b_diff + margin_of_error))"
   ]
  },
  {
   "cell_type": "markdown",
   "metadata": {},
   "source": [
    "Next, the p-value must be calculated. The z-score is the number of standard deviations that the difference in means, ~.032, is away from zero."
   ]
  },
  {
   "cell_type": "code",
   "execution_count": 88,
   "metadata": {},
   "outputs": [
    {
     "name": "stdout",
     "output_type": "stream",
     "text": [
      "p-value: 3.86256381290969e-05\n"
     ]
    }
   ],
   "source": [
    "z_score = w_b_diff/w_b_sd_diff\n",
    "p_value = stats.norm.sf(abs(z_score))*2\n",
    "print('p-value: {}'.format(p_value))"
   ]
  },
  {
   "cell_type": "code",
   "execution_count": 90,
   "metadata": {},
   "outputs": [
    {
     "data": {
      "text/plain": [
       "0.09650924056768417"
      ]
     },
     "execution_count": 90,
     "metadata": {},
     "output_type": "execute_result"
    }
   ],
   "source": [
    "w_mean"
   ]
  },
  {
   "cell_type": "markdown",
   "metadata": {},
   "source": [
    "<div class=\"span5 alert alert-success\">\n",
    "<p>4. The extremely low p-value suggests that there is almost zero chance that the observed results were due to chance alone. This suggests that those with black-sounding names are less likely to be called back for job interviews than those with white-sounding names. The observed difference in callback rates, 3.2 percentage points, is also very practically significant; the white callback rate is 9.65%, so a black applicant is roughly 1/3 less likely to be called than a white applicant.\n",
    "    </p>\n",
    "    <p>\n",
    "5. This does not suggest that race/name is the most important factor in callback success. Several factors were untested in this analysis - it is almost certain that educational attainment, job experience, or other factors are significant predictors of callback success. This analysis suggests that race/name is an important factor in callback success, but does not suggest its importance relative to other factors.\n",
    "To test whether race/name is the most important factor, a similar analysis would need to be repeated for all other factors. The impact that the other factors have on callback rates would need to be compared to the impact of race/name to determine whether race/name is the most important.</p>\n",
    "</div>"
   ]
  }
 ],
 "metadata": {
  "kernelspec": {
   "display_name": "Python 3",
   "language": "python",
   "name": "python3"
  },
  "language_info": {
   "codemirror_mode": {
    "name": "ipython",
    "version": 3
   },
   "file_extension": ".py",
   "mimetype": "text/x-python",
   "name": "python",
   "nbconvert_exporter": "python",
   "pygments_lexer": "ipython3",
   "version": "3.7.1"
  }
 },
 "nbformat": 4,
 "nbformat_minor": 1
}
